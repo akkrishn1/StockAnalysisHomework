In this assignment, you'll get to use what you've learned this week to evaluate the performance among various algorithmic, hedge, and mutual fund portfolios and compare them against the S&P 500 Index.

# Initial imports
import pandas as pd
import numpy as np
import datetime as dt
from pathlib import Path
​
%matplotlib inline
Data Cleaning
In this section, you will need to read the CSV files into DataFrames and perform any necessary data cleaning steps. After cleaning, combine all DataFrames into a single DataFrame.

Files:

whale_returns.csv: Contains returns of some famous "whale" investors' portfolios.

algo_returns.csv: Contains returns from the in-house trading algorithms from Harold's company.

sp500_history.csv: Contains historical closing prices of the S&P 500 Index.

Whale Returns
Read the Whale Portfolio daily returns and clean the data

# Reading whale returns
whale_data = Path("Resources/whale_returns.csv")
whale_df = pd.read_csv(whale_data, index_col='Date', parse_dates=True, infer_datetime_format=True)
whale_df.head()
SOROS FUND MANAGEMENT LLC	PAULSON & CO.INC.	TIGER GLOBAL MANAGEMENT LLC	BERKSHIRE HATHAWAY INC
Date				
2015-03-02	NaN	NaN	NaN	NaN
2015-03-03	-0.001266	-0.004981	-0.000496	-0.006569
2015-03-04	0.002230	0.003241	-0.002534	0.004213
2015-03-05	0.004016	0.004076	0.002355	0.006726
2015-03-06	-0.007905	-0.003574	-0.008481	-0.013098
# Count nulls
whale_df.isnull().sum()
SOROS FUND MANAGEMENT LLC      1
PAULSON & CO.INC.              1
TIGER GLOBAL MANAGEMENT LLC    1
BERKSHIRE HATHAWAY INC         1
dtype: int64
# Drop nulls
whale_df_nulldrop = whale_df.dropna()
whale_df_nulldrop
SOROS FUND MANAGEMENT LLC	PAULSON & CO.INC.	TIGER GLOBAL MANAGEMENT LLC	BERKSHIRE HATHAWAY INC
Date				
2015-03-03	-0.001266	-0.004981	-0.000496	-0.006569
2015-03-04	0.002230	0.003241	-0.002534	0.004213
2015-03-05	0.004016	0.004076	0.002355	0.006726
2015-03-06	-0.007905	-0.003574	-0.008481	-0.013098
2015-03-09	0.000582	0.004225	0.005843	-0.001652
...	...	...	...	...
2019-04-25	-0.000285	-0.001291	-0.005153	0.004848
2019-04-26	0.008149	0.009162	0.012355	0.010434
2019-04-29	0.001254	0.002719	0.006251	0.005223
2019-04-30	-0.001295	-0.002211	-0.000259	-0.003702
2019-05-01	-0.005847	-0.001341	-0.007936	-0.007833
1059 rows × 4 columns

Algorithmic Daily Returns
Read the algorithmic daily returns and clean the data

# Reading algorithmic returns
algo_data = Path("Resources/algo_returns.csv")
algo_df = pd.read_csv(algo_data, index_col='Date', parse_dates=True, infer_datetime_format=True)
algo_df.head()
Algo 1	Algo 2
Date		
2014-05-28	0.001745	NaN
2014-05-29	0.003978	NaN
2014-05-30	0.004464	NaN
2014-06-02	0.005692	NaN
2014-06-03	0.005292	NaN
# Count nulls
algo_df.isnull().sum()
Algo 1    0
Algo 2    6
dtype: int64
# Drop nulls
algo_df_nulldrop = algo_df.dropna()
algo_df_nulldrop
Algo 1	Algo 2
Date		
2014-06-05	0.004062	0.013285
2014-06-06	0.001857	0.008284
2014-06-09	-0.005012	0.005668
2014-06-10	0.004406	-0.000735
2014-06-11	0.004760	-0.003761
...	...	...
2019-04-25	0.000682	-0.007247
2019-04-26	0.002981	0.005256
2019-04-29	0.005208	0.002829
2019-04-30	-0.002944	-0.001570
2019-05-01	0.000094	-0.007358
1235 rows × 2 columns

S&P 500 Returns
Read the S&P 500 historic closing prices and create a new daily returns DataFrame from the data.

# Reading S&P 500 Closing Prices
sp500_data = Path("Resources/sp500_history.csv")
sp500_df = pd.read_csv(sp500_data, index_col='Date', parse_dates=True, infer_datetime_format=True)
sp500_df.head()
Close
Date	
2019-04-23	$2933.68
2019-04-22	$2907.97
2019-04-18	$2905.03
2019-04-17	$2900.45
2019-04-16	$2907.06
# Check Data Types
sp500_df.dtypes
Close    object
dtype: object
# Fix Data Types
sp500_df["Close"] = sp500_df["Close"].str.replace("$", "")
sp500_df["Close"] = sp500_df["Close"].astype("float")
sp500_df["Close"]
<ipython-input-15-c72546483133>:2: FutureWarning: The default value of regex will change from True to False in a future version. In addition, single character regular expressions will*not* be treated as literal strings when regex=True.
  sp500_df["Close"] = sp500_df["Close"].str.replace("$", "")
Date
2019-04-23    2933.68
2019-04-22    2907.97
2019-04-18    2905.03
2019-04-17    2900.45
2019-04-16    2907.06
               ...   
2012-10-05    1460.93
2012-10-04    1461.40
2012-10-03    1450.99
2012-10-02    1445.75
2012-10-01    1444.49
Name: Close, Length: 1649, dtype: float64
# Calculate Daily Returns
sp500_df_returns = sp500_df.pct_change()
sp500_df_returns
Close
Date	
2019-04-23	NaN
2019-04-22	-0.008764
2019-04-18	-0.001011
2019-04-17	-0.001577
2019-04-16	0.002279
...	...
2012-10-05	0.003469
2012-10-04	0.000322
2012-10-03	-0.007123
2012-10-02	-0.003611
2012-10-01	-0.000872
1649 rows × 1 columns

# Drop nulls
sp500_df_returns_clean = sp500_df_returns.dropna()
sp500_df_returns_clean.head()
Close
Date	
2019-04-22	-0.008764
2019-04-18	-0.001011
2019-04-17	-0.001577
2019-04-16	0.002279
2019-04-15	-0.000509
# Rename `Close` Column to be specific to this portfolio.
sp500_df_final = sp500_df_returns_clean.rename(columns={"Close": "SP500_Close"})
sp500_df_final.head()
SP500_Close
Date	
2019-04-22	-0.008764
2019-04-18	-0.001011
2019-04-17	-0.001577
2019-04-16	0.002279
2019-04-15	-0.000509
Combine Whale, Algorithmic, and S&P 500 Returns
# Join Whale Returns, Algorithmic Returns, and the S&P 500 Returns into a single DataFrame with columns for each portfolio's returns.
# Create a new pivot table where the columns are the closing prices for each ticker
combined_df = pd.concat([whale_df_nulldrop, algo_df_nulldrop, sp500_df_final], axis="columns", join="inner")
​
# Sort datetime index in ascending order (past to present)
combined_df.sort_index()
​
# Set column names to 'FB' 'TWTR', 'SNAP', and 'S&P 500'
combined_df.columns = ["SOROS", "Paulson", "Tiger", "Buffett", "Algo 1", "Algo 2", "SP500_Close"]
​
# Display a few rows
combined_df.head()
SOROS	Paulson	Tiger	Buffett	Algo 1	Algo 2	SP500_Close
Date							
2015-03-03	-0.001266	-0.004981	-0.000496	-0.006569	-0.001942	-0.000949	0.004408
2015-03-04	0.002230	0.003241	-0.002534	0.004213	-0.008589	0.002416	-0.001195
2015-03-05	0.004016	0.004076	0.002355	0.006726	-0.000955	0.004323	0.014378
2015-03-06	-0.007905	-0.003574	-0.008481	-0.013098	-0.004957	-0.011460	-0.003929
2015-03-09	0.000582	0.004225	0.005843	-0.001652	-0.005447	0.001303	0.017254
Conduct Quantitative Analysis
In this section, you will calculate and visualize performance and risk metrics for the portfolios.

Performance Anlysis
Calculate and Plot the daily returns.
# Plot daily returns of all portfolios
combined_returns = combined_df.pct_change()
combined_returns.plot(figsize=(20,10))